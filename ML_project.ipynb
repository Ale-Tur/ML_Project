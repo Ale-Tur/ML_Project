{
 "cells": [
  {
   "cell_type": "code",
   "execution_count": 27,
   "metadata": {},
   "outputs": [],
   "source": [
    "import numpy as np\n",
    "import pandas as pd"
   ]
  },
  {
   "cell_type": "code",
   "execution_count": 60,
   "metadata": {},
   "outputs": [
    {
     "name": "stdout",
     "output_type": "stream",
     "text": [
      "False\n"
     ]
    }
   ],
   "source": [
    "#Loading Dataset\n",
    "dataframe = pd.read_csv('updated_pollution_dataset.csv')\n",
    "\n",
    "#Checking for NaN value\n",
    "print(dataframe.isnull().values.any())\n",
    "\n",
    "df_row = np.size(dataframe,0)\n",
    "df_col = np.size(dataframe,1)\n",
    "\n",
    "index_good = dataframe[dataframe['Air Quality'] == 'Good'].index\n",
    "index_moderate = dataframe[dataframe['Air Quality'] == 'Moderate'].index\n",
    "index_other = np.array([])\n",
    "index_poor = dataframe[dataframe['Air Quality'] == 'Poor'].index\n"
   ]
  },
  {
   "cell_type": "code",
   "execution_count": null,
   "metadata": {},
   "outputs": [],
   "source": [
    "#Split dataset: 80% internal - 20% external"
   ]
  }
 ],
 "metadata": {
  "kernelspec": {
   "display_name": "base",
   "language": "python",
   "name": "python3"
  },
  "language_info": {
   "codemirror_mode": {
    "name": "ipython",
    "version": 3
   },
   "file_extension": ".py",
   "mimetype": "text/x-python",
   "name": "python",
   "nbconvert_exporter": "python",
   "pygments_lexer": "ipython3",
   "version": "3.10.9"
  }
 },
 "nbformat": 4,
 "nbformat_minor": 2
}
