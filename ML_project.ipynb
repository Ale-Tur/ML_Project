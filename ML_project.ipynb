{
 "cells": [
  {
   "cell_type": "code",
   "execution_count": 83,
   "metadata": {},
   "outputs": [],
   "source": [
    "import numpy as np\n",
    "from numpy import random\n",
    "import pandas as pd\n",
    "import math"
   ]
  },
  {
   "cell_type": "code",
   "execution_count": 84,
   "metadata": {},
   "outputs": [
    {
     "name": "stdout",
     "output_type": "stream",
     "text": [
      "False\n"
     ]
    }
   ],
   "source": [
    "#Loading Dataset\n",
    "dataframe = pd.read_csv('updated_pollution_dataset.csv')\n",
    "\n",
    "#Checking for NaN value\n",
    "print(dataframe.isnull().values.any())\n",
    "\n",
    "#Checking for unique values\n",
    "unique_class = dataframe['Air Quality'].unique()\n",
    "\n",
    "df_row = np.size(dataframe,0)\n",
    "df_col = np.size(dataframe,1)\n",
    "\n",
    "#Getting class index\n",
    "index_good = dataframe[dataframe['Air Quality'] == 'Good'].index\n",
    "index_moderate = dataframe[dataframe['Air Quality'] == 'Moderate'].index\n",
    "index_poor = dataframe[dataframe['Air Quality'] == 'Poor'].index\n",
    "index_hazard = dataframe[dataframe['Air Quality'] == 'Hazardous'].index\n"
   ]
  },
  {
   "cell_type": "markdown",
   "metadata": {},
   "source": [
    "Split dataset: 98%-99% internal - 1%-2% external.\n",
    "This dataset wil be completly external just to see final results (like dataset given at the end of competition to test models)"
   ]
  },
  {
   "cell_type": "code",
   "execution_count": 85,
   "metadata": {},
   "outputs": [],
   "source": [
    "#Indetifing indices for external dataset\n",
    "#This is done in one section just so every run of the program does not generate new datasets\n",
    "external_size_good = math.floor(0.01*np.size(index_good))\n",
    "external_size_moderate = math.floor(0.01*np.size(index_moderate))\n",
    "external_size_poor = math.floor(0.01*np.size(index_poor))\n",
    "external_size_hazard = math.floor(0.02*np.size(index_hazard))\n",
    "\n",
    "#Extracting indices for external dataset\n",
    "index_untouch_good = np.zeros(external_size_good)\n",
    "i = 0\n",
    "while index_untouch_good[external_size_good-1,] == 0:\n",
    "    r = int(random.choice(index_good))\n",
    "    if r not in index_untouch_good:\n",
    "        index_untouch_good[i] = r\n",
    "        i = i + 1\n",
    "\n",
    "index_untouch_moderate = np.zeros(external_size_moderate)\n",
    "i = 0\n",
    "while index_untouch_moderate[external_size_moderate-1,] == 0:\n",
    "    r = int(random.choice(index_moderate))\n",
    "    if r not in index_untouch_moderate:\n",
    "        index_untouch_moderate[i] = r\n",
    "        i = i + 1\n",
    "\n",
    "index_untouch_poor = np.zeros(external_size_poor)\n",
    "i = 0\n",
    "while index_untouch_poor[external_size_poor-1,] == 0:\n",
    "    r = int(random.choice(index_poor))\n",
    "    if r not in index_untouch_poor:\n",
    "        index_untouch_poor[i] = r\n",
    "        i = i + 1\n",
    "\n",
    "index_untouch_hazard = np.zeros(external_size_hazard)\n",
    "i = 0\n",
    "while index_untouch_hazard[external_size_hazard-1,] == 0:\n",
    "    r = int(random.choice(index_hazard))\n",
    "    if r not in index_untouch_hazard:\n",
    "        index_untouch_hazard[i] = r\n",
    "        i = i + 1"
   ]
  },
  {
   "cell_type": "code",
   "execution_count": 86,
   "metadata": {},
   "outputs": [],
   "source": [
    "#Creating the internal and external dataset\n",
    "df_untouch_good = dataframe.iloc[index_untouch_good]\n",
    "df_untouch_moderate = dataframe.iloc[index_untouch_moderate]\n",
    "df_untouch_poor = dataframe.iloc[index_untouch_poor]\n",
    "df_untouch_hazard = dataframe.iloc[index_untouch_hazard]\n",
    "\n",
    "#Removing indices for external (maybe don't needed, check next time)\n",
    "for i in range(0,external_size_good):\n",
    "    index = np.argwhere(index_good == index_untouch_good[i])\n",
    "    index_good = np.delete(index_good,index)\n",
    "\n",
    "for i in range(0,external_size_moderate):\n",
    "    index = np.argwhere(index_moderate == index_untouch_moderate[i])\n",
    "    index_moderate = np.delete(index_moderate,index)\n",
    "\n",
    "for i in range(0,external_size_poor):\n",
    "    index = np.argwhere(index_poor == index_untouch_poor[i])\n",
    "    index_poor = np.delete(index_poor, index)\n",
    "\n",
    "for i in range(0,external_size_hazard):\n",
    "    index = np.argwhere(index_hazard == index_untouch_hazard[i])\n",
    "    index_hazard = np.delete(index_hazard,index)\n",
    "\n",
    "del index,i"
   ]
  }
 ],
 "metadata": {
  "kernelspec": {
   "display_name": "base",
   "language": "python",
   "name": "python3"
  },
  "language_info": {
   "codemirror_mode": {
    "name": "ipython",
    "version": 3
   },
   "file_extension": ".py",
   "mimetype": "text/x-python",
   "name": "python",
   "nbconvert_exporter": "python",
   "pygments_lexer": "ipython3",
   "version": "3.10.9"
  }
 },
 "nbformat": 4,
 "nbformat_minor": 2
}
